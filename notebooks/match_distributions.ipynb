{
 "cells": [
  {
   "cell_type": "code",
   "execution_count": 1,
   "metadata": {},
   "outputs": [],
   "source": [
    "schema = '20221101-7d'"
   ]
  },
  {
   "cell_type": "code",
   "execution_count": 4,
   "metadata": {},
   "outputs": [],
   "source": [
    "import json\n",
    "import pathlib\n",
    "\n",
    "import numpy as np\n",
    "import pandas as pd\n",
    "import scipy\n",
    "import matplotlib.pyplot as plt\n",
    "\n",
    "from halo_infinite_analysis import db"
   ]
  },
  {
   "cell_type": "code",
   "execution_count": 6,
   "metadata": {},
   "outputs": [],
   "source": [
    "ROOT = pathlib.Path('C:/Users/acurt/source/halo-infinite-analysis')\n",
    "CONFIG = json.loads((ROOT / 'config.json').read_text())"
   ]
  },
  {
   "cell_type": "code",
   "execution_count": 25,
   "metadata": {},
   "outputs": [
    {
     "name": "stderr",
     "output_type": "stream",
     "text": [
      "C:\\Users\\acurt\\AppData\\Local\\Temp\\ipykernel_16960\\3724951342.py:7: UserWarning: pandas only supports SQLAlchemy connectable (engine/connection) or database string URI or sqlite3 DBAPI2 connection. Other DBAPI2 objects are not tested. Please consider using SQLAlchemy.\n",
      "  df = pd.read_sql(sql, conn, index_col='id')\n"
     ]
    }
   ],
   "source": [
    "sql = \"\"\"\n",
    "    SELECT *\n",
    "    FROM \"20221101-7d\".vw_match\n",
    "\"\"\"\n",
    "\n",
    "with db.connect(**CONFIG['database']) as conn:\n",
    "    df = pd.read_sql(sql, conn, index_col='id')\n",
    "\n",
    "df['start_time'] = pd.to_datetime(df['start_time'], utc=True)\n",
    "df['end_time'] = pd.to_datetime(df['end_time'], utc=True)"
   ]
  },
  {
   "cell_type": "code",
   "execution_count": 26,
   "metadata": {},
   "outputs": [
    {
     "data": {
      "text/html": [
       "<div>\n",
       "<style scoped>\n",
       "    .dataframe tbody tr th:only-of-type {\n",
       "        vertical-align: middle;\n",
       "    }\n",
       "\n",
       "    .dataframe tbody tr th {\n",
       "        vertical-align: top;\n",
       "    }\n",
       "\n",
       "    .dataframe thead th {\n",
       "        text-align: right;\n",
       "    }\n",
       "</style>\n",
       "<table border=\"1\" class=\"dataframe\">\n",
       "  <thead>\n",
       "    <tr style=\"text-align: right;\">\n",
       "      <th></th>\n",
       "      <th>match_id</th>\n",
       "      <th>start_time</th>\n",
       "      <th>end_time</th>\n",
       "      <th>duration</th>\n",
       "      <th>playable_duration</th>\n",
       "      <th>lifecycle_mode</th>\n",
       "      <th>game_variant_category</th>\n",
       "      <th>map_variant</th>\n",
       "      <th>game_variant</th>\n",
       "      <th>playlist</th>\n",
       "      <th>playlist_experience</th>\n",
       "      <th>map_mode_pair</th>\n",
       "    </tr>\n",
       "    <tr>\n",
       "      <th>id</th>\n",
       "      <th></th>\n",
       "      <th></th>\n",
       "      <th></th>\n",
       "      <th></th>\n",
       "      <th></th>\n",
       "      <th></th>\n",
       "      <th></th>\n",
       "      <th></th>\n",
       "      <th></th>\n",
       "      <th></th>\n",
       "      <th></th>\n",
       "      <th></th>\n",
       "    </tr>\n",
       "  </thead>\n",
       "  <tbody>\n",
       "    <tr>\n",
       "      <th>19917</th>\n",
       "      <td>021b4dce-0abb-4a74-a28a-5e3dff0c90fb</td>\n",
       "      <td>2022-11-06 16:13:12.581000+00:00</td>\n",
       "      <td>2022-11-06 16:22:24.336000+00:00</td>\n",
       "      <td>525.59880</td>\n",
       "      <td>525.578</td>\n",
       "      <td>Matchmade</td>\n",
       "      <td>Bastion</td>\n",
       "      <td>Recharge</td>\n",
       "      <td>Arena:King of the Hill</td>\n",
       "      <td>Quick Play</td>\n",
       "      <td>Arena</td>\n",
       "      <td>Arena:King of the Hill on Recharge</td>\n",
       "    </tr>\n",
       "    <tr>\n",
       "      <th>19918</th>\n",
       "      <td>04658241-cacd-48c1-b776-306564e9bf72</td>\n",
       "      <td>2022-11-05 02:52:45.371000+00:00</td>\n",
       "      <td>2022-11-05 03:05:37.995000+00:00</td>\n",
       "      <td>750.00525</td>\n",
       "      <td>750.015</td>\n",
       "      <td>Matchmade</td>\n",
       "      <td>Fiesta</td>\n",
       "      <td>Launch Site</td>\n",
       "      <td>Fiesta:Slayer</td>\n",
       "      <td>Fiesta</td>\n",
       "      <td>Arena</td>\n",
       "      <td>Fiesta:Slayer on Launch Site</td>\n",
       "    </tr>\n",
       "    <tr>\n",
       "      <th>19919</th>\n",
       "      <td>79554840-14d6-4a0f-8484-3b17ae380a09</td>\n",
       "      <td>2022-11-07 04:01:09.754000+00:00</td>\n",
       "      <td>2022-11-07 04:11:04.240000+00:00</td>\n",
       "      <td>576.65906</td>\n",
       "      <td>576.640</td>\n",
       "      <td>Matchmade</td>\n",
       "      <td>Slayer</td>\n",
       "      <td>Recharge</td>\n",
       "      <td>Ranked:FFA Slayer</td>\n",
       "      <td>Ranked FFA</td>\n",
       "      <td>Arena</td>\n",
       "      <td>Ranked:FFA Slayer on Recharge</td>\n",
       "    </tr>\n",
       "    <tr>\n",
       "      <th>19920</th>\n",
       "      <td>40b09e15-c203-4a8c-b79b-b9f943926373</td>\n",
       "      <td>2022-11-06 03:32:56.743000+00:00</td>\n",
       "      <td>2022-11-06 03:42:08.980000+00:00</td>\n",
       "      <td>503.50192</td>\n",
       "      <td>503.485</td>\n",
       "      <td>Matchmade</td>\n",
       "      <td>Bastion</td>\n",
       "      <td>Streets</td>\n",
       "      <td>Arena:King of the Hill</td>\n",
       "      <td>Quick Play</td>\n",
       "      <td>Arena</td>\n",
       "      <td>Arena:King of the Hill on Streets</td>\n",
       "    </tr>\n",
       "    <tr>\n",
       "      <th>19921</th>\n",
       "      <td>69d0ccdb-f3c6-411c-b663-a4685b11abe8</td>\n",
       "      <td>2022-11-03 02:55:39.129000+00:00</td>\n",
       "      <td>2022-11-03 03:07:35.498000+00:00</td>\n",
       "      <td>673.56740</td>\n",
       "      <td>673.547</td>\n",
       "      <td>Matchmade</td>\n",
       "      <td>Slayer</td>\n",
       "      <td>Launch Site</td>\n",
       "      <td>Tactical:Slayer</td>\n",
       "      <td>Tactical Slayer</td>\n",
       "      <td>Arena</td>\n",
       "      <td>Tactical:Slayer on Launch Site</td>\n",
       "    </tr>\n",
       "  </tbody>\n",
       "</table>\n",
       "</div>"
      ],
      "text/plain": [
       "                                   match_id                       start_time  \\\n",
       "id                                                                             \n",
       "19917  021b4dce-0abb-4a74-a28a-5e3dff0c90fb 2022-11-06 16:13:12.581000+00:00   \n",
       "19918  04658241-cacd-48c1-b776-306564e9bf72 2022-11-05 02:52:45.371000+00:00   \n",
       "19919  79554840-14d6-4a0f-8484-3b17ae380a09 2022-11-07 04:01:09.754000+00:00   \n",
       "19920  40b09e15-c203-4a8c-b79b-b9f943926373 2022-11-06 03:32:56.743000+00:00   \n",
       "19921  69d0ccdb-f3c6-411c-b663-a4685b11abe8 2022-11-03 02:55:39.129000+00:00   \n",
       "\n",
       "                              end_time   duration  playable_duration  \\\n",
       "id                                                                     \n",
       "19917 2022-11-06 16:22:24.336000+00:00  525.59880            525.578   \n",
       "19918 2022-11-05 03:05:37.995000+00:00  750.00525            750.015   \n",
       "19919 2022-11-07 04:11:04.240000+00:00  576.65906            576.640   \n",
       "19920 2022-11-06 03:42:08.980000+00:00  503.50192            503.485   \n",
       "19921 2022-11-03 03:07:35.498000+00:00  673.56740            673.547   \n",
       "\n",
       "      lifecycle_mode game_variant_category  map_variant  \\\n",
       "id                                                        \n",
       "19917      Matchmade               Bastion     Recharge   \n",
       "19918      Matchmade                Fiesta  Launch Site   \n",
       "19919      Matchmade                Slayer     Recharge   \n",
       "19920      Matchmade               Bastion      Streets   \n",
       "19921      Matchmade                Slayer  Launch Site   \n",
       "\n",
       "                 game_variant         playlist playlist_experience  \\\n",
       "id                                                                   \n",
       "19917  Arena:King of the Hill       Quick Play               Arena   \n",
       "19918           Fiesta:Slayer           Fiesta               Arena   \n",
       "19919       Ranked:FFA Slayer       Ranked FFA               Arena   \n",
       "19920  Arena:King of the Hill       Quick Play               Arena   \n",
       "19921         Tactical:Slayer  Tactical Slayer               Arena   \n",
       "\n",
       "                            map_mode_pair  \n",
       "id                                         \n",
       "19917  Arena:King of the Hill on Recharge  \n",
       "19918        Fiesta:Slayer on Launch Site  \n",
       "19919       Ranked:FFA Slayer on Recharge  \n",
       "19920   Arena:King of the Hill on Streets  \n",
       "19921      Tactical:Slayer on Launch Site  "
      ]
     },
     "execution_count": 26,
     "metadata": {},
     "output_type": "execute_result"
    }
   ],
   "source": [
    "df.head()"
   ]
  },
  {
   "cell_type": "code",
   "execution_count": 40,
   "metadata": {},
   "outputs": [
    {
     "data": {
      "text/plain": [
       "[<matplotlib.lines.Line2D at 0x1b09bb915d0>]"
      ]
     },
     "execution_count": 40,
     "metadata": {},
     "output_type": "execute_result"
    },
    {
     "data": {
      "image/png": "[encoded data removed]",
      "text/plain": [
       "<Figure size 640x480 with 1 Axes>"
      ]
     },
     "metadata": {},
     "output_type": "display_data"
    }
   ],
   "source": [
    "plt.plot(df['start_time'].dt.day.value_counts().sort_index())"
   ]
  }
 ],
 "metadata": {
  "kernelspec": {
   "display_name": "Python 3.10.6 ('venv': venv)",
   "language": "python",
   "name": "python3"
  },
  "language_info": {
   "codemirror_mode": {
    "name": "ipython",
    "version": 3
   },
   "file_extension": ".py",
   "mimetype": "text/x-python",
   "name": "python",
   "nbconvert_exporter": "python",
   "pygments_lexer": "ipython3",
   "version": "3.10.6"
  },
  "orig_nbformat": 4,
  "vscode": {
   "interpreter": {
    "hash": "216d46e0e36ff1d9b9876386a4b10fd20ed9de53d05d0a5a2d52217514f851c8"
   }
  }
 },
 "nbformat": 4,
 "nbformat_minor": 2
}
